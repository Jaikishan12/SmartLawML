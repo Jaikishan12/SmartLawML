{
 "cells": [
  {
   "cell_type": "code",
   "execution_count": 21,
   "id": "ac374470",
   "metadata": {},
   "outputs": [
    {
     "name": "stdout",
     "output_type": "stream",
     "text": [
      "LogisticRegression 0.9665503875968993 0.8173508709667803 0.8779053874311376\n",
      "RidgeClassifier 0.9552790578597031 0.8539998565786195 0.89844384499241\n",
      "SGDClassifier 0.9539705547739175 0.8663686423055891 0.90545976788015\n",
      "PassiveAggressiveClassifier 0.8459924572122867 0.6363366533176694 0.6597598869042921\n",
      "KNeighborsClassifier 0.6789363318084564 0.6681346065580923 0.5342609251045184\n",
      "DecisionTreeClassifier 0.9176041332598514 0.8525040396480591 0.8823515268593741\n",
      "LinearSVC 0.9417106137040013 0.8685505251409932 0.9018145148822224\n",
      "SVC 0.9632277708728819 0.846272666277517 0.8965633922429826\n",
      "GaussianNB 0.537213139943915 0.576784661964135 0.5066687890765506\n",
      "AdaBoostClassifier 0.9306700031861146 0.8360302658448515 0.8773076749639249\n",
      "BaggingClassifier 0.935496318034836 0.8474716012925301 0.886689156138376\n",
      "RandomForestClassifier 0.954090672108138 0.8189633781047133 0.874559791034894\n",
      "ExtraTreesClassifier 0.9491572624150701 0.8240750522408017 0.8764203959022484\n",
      "GradientBoostingClassifier 0.9400158793171894 0.591800996797407 0.6174577663487982\n",
      "LinearDiscriminantAnalysis 0.7116083499392402 0.8171610163585372 0.7533469890616397\n",
      "QuadraticDiscriminantAnalysis 0.5503122612420869 0.4124522355581075 0.35032192302539716\n"
     ]
    }
   ],
   "source": [
    "import json\n",
    "from matplotlib import pyplot\n",
    "from numpy import polyfit\n",
    "from numpy import asarray\n",
    "\n",
    "ideal_results, cv_results = list(), list()\n",
    "\n",
    "filename=\"E:/git/SmartLawML/temp/ModelMetrics.json\"  \n",
    "with open(filename,encoding=\"utf8\") as f1: \n",
    "    response=json.load(f1)\n",
    "\n",
    "for sentenceTypeModelMetric in response[\"sentenceTypeModelMetrics\"]:\n",
    "    print(sentenceTypeModelMetric[\"modelName\"],\n",
    "          sentenceTypeModelMetric[\"results\"][\"classification_report\"][\"macro avg\"][\"precision\"],\n",
    "          sentenceTypeModelMetric[\"results\"][\"classification_report\"][\"macro avg\"][\"recall\"],\n",
    "         sentenceTypeModelMetric[\"results\"][\"classification_report\"][\"macro avg\"][\"f1-score\"])"
   ]
  },
  {
   "cell_type": "code",
   "execution_count": 33,
   "id": "d1cc1cf1",
   "metadata": {},
   "outputs": [
    {
     "name": "stdout",
     "output_type": "stream",
     "text": [
      "LogisticRegression 0.9246511627906977 0.9969909729187563 0.9594594594594594\n",
      "RidgeClassifier 0.940952380952381 0.9909729187562688 0.9653150952613582\n",
      "SGDClassifier 0.9454022988505747 0.9899699097291875 0.967172954434101\n",
      "PassiveAggressiveClassifier 0.8808664259927798 0.9789368104312939 0.9273159144893113\n",
      "KNeighborsClassifier 0.9360189573459715 0.39618856569709127 0.5567300916138125\n",
      "DecisionTreeClassifier 0.9418604651162791 0.9749247743229689 0.9581074420896993\n",
      "LinearSVC 0.9469623915139826 0.9849548645937813 0.9655850540806293\n",
      "SVC 0.9375591296121097 0.9939819458375125 0.9649464459591042\n",
      "GaussianNB 0.9458823529411765 0.8064192577733199 0.8706009745533297\n",
      "AdaBoostClassifier 0.9324452901998097 0.9829488465396189 0.95703125\n",
      "BaggingClassifier 0.9386973180076629 0.9829488465396189 0.9603135717785399\n",
      "RandomForestClassifier 0.9252336448598131 0.9929789368104313 0.957910014513788\n",
      "ExtraTreesClassifier 0.927699530516432 0.9909729187562688 0.9582929194956353\n",
      "GradientBoostingClassifier 0.8655021834061135 0.9939819458375125 0.9253034547152194\n",
      "LinearDiscriminantAnalysis 0.9391592920353983 0.8515546639919759 0.8932140978432404\n",
      "QuadraticDiscriminantAnalysis 0.7799479166666666 0.600802407221665 0.6787535410764872\n"
     ]
    }
   ],
   "source": [
    "for sentenceTypeModelMetric in response[\"sentenceTypeModelMetrics\"]:\n",
    "    print(sentenceTypeModelMetric[\"modelName\"],\n",
    "          sentenceTypeModelMetric[\"results\"][\"classification_report\"][\"PREMISE\"][\"precision\"],\n",
    "         sentenceTypeModelMetric[\"results\"][\"classification_report\"][\"PREMISE\"][\"recall\"],\n",
    "         sentenceTypeModelMetric[\"results\"][\"classification_report\"][\"PREMISE\"][\"f1-score\"])"
   ]
  },
  {
   "cell_type": "code",
   "execution_count": null,
   "id": "1b70b757",
   "metadata": {},
   "outputs": [],
   "source": []
  }
 ],
 "metadata": {
  "kernelspec": {
   "display_name": "Python 3 (ipykernel)",
   "language": "python",
   "name": "python3"
  },
  "language_info": {
   "codemirror_mode": {
    "name": "ipython",
    "version": 3
   },
   "file_extension": ".py",
   "mimetype": "text/x-python",
   "name": "python",
   "nbconvert_exporter": "python",
   "pygments_lexer": "ipython3",
   "version": "3.10.4"
  }
 },
 "nbformat": 4,
 "nbformat_minor": 5
}
