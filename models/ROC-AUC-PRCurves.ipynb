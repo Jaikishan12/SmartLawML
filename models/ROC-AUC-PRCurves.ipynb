{
 "cells": [
  {
   "cell_type": "markdown",
   "id": "7b2ca2e9",
   "metadata": {},
   "source": [
    "ROC, AUC, PR-Curves\n",
    "https://machinelearningmastery.com/roc-curves-and-precision-recall-curves-for-classification-in-python/"
   ]
  },
  {
   "cell_type": "code",
   "execution_count": 15,
   "id": "253636c0",
   "metadata": {},
   "outputs": [],
   "source": [
    "import pandas as pd\n",
    "from smartlawdata import getSentenceTypeDataSet\n",
    "from sklearn.feature_extraction.text import TfidfVectorizer\n",
    "from sklearn.model_selection import train_test_split\n",
    "df_final1 = getSentenceTypeDataSet()\n",
    "#print(df_final1)\n",
    "\n",
    "los=[]\n",
    "for item in df_final1['text']:\n",
    "    los.append(item)\n",
    "\n",
    "#Create a TFIDF vectorizer to generate text entered into vector form to be given as input to Machine Learning model\n",
    "vectorizer = TfidfVectorizer()\n",
    "vectors = vectorizer.fit_transform(los)\n",
    "feature_names = vectorizer.get_feature_names_out() #Extract the feature names as columns for the texts\n",
    "dense = vectors.todense()\n",
    "denselist = dense.tolist()\n",
    "df_end = pd.DataFrame(denselist, columns=feature_names)\n",
    "df_end['argumentSentenceType']=df_final1['argumentSentenceType']\n",
    "\n",
    "y=df_end.argumentSentenceType\n",
    "X=df_end[feature_names]"
   ]
  },
  {
   "cell_type": "code",
   "execution_count": 16,
   "id": "28d7ed6c",
   "metadata": {},
   "outputs": [],
   "source": [
    "import matplotlib.pyplot as plt\n",
    "from sklearn import svm, datasets\n",
    "from sklearn.model_selection import train_test_split\n",
    "from sklearn.preprocessing import label_binarize\n",
    "from sklearn.metrics import roc_curve, auc\n",
    "from sklearn.multiclass import OneVsRestClassifier\n",
    "from itertools import cycle\n",
    "from sklearn.linear_model import LogisticRegression"
   ]
  },
  {
   "cell_type": "code",
   "execution_count": 21,
   "id": "feacbaf4",
   "metadata": {},
   "outputs": [
    {
     "ename": "AttributeError",
     "evalue": "'numpy.ndarray' object has no attribute 'unique'",
     "output_type": "error",
     "traceback": [
      "\u001b[1;31m---------------------------------------------------------------------------\u001b[0m",
      "\u001b[1;31mAttributeError\u001b[0m                            Traceback (most recent call last)",
      "Input \u001b[1;32mIn [21]\u001b[0m, in \u001b[0;36m<cell line: 1>\u001b[1;34m()\u001b[0m\n\u001b[1;32m----> 1\u001b[0m class_labels\u001b[38;5;241m=\u001b[39m\u001b[43my\u001b[49m\u001b[38;5;241;43m.\u001b[39;49m\u001b[43munique\u001b[49m()\n\u001b[0;32m      2\u001b[0m y \u001b[38;5;241m=\u001b[39m label_binarize(y, classes\u001b[38;5;241m=\u001b[39mclass_labels)\n\u001b[0;32m      3\u001b[0m n_classes\u001b[38;5;241m=\u001b[39m y\u001b[38;5;241m.\u001b[39mshape[\u001b[38;5;241m1\u001b[39m]\n",
      "\u001b[1;31mAttributeError\u001b[0m: 'numpy.ndarray' object has no attribute 'unique'"
     ]
    }
   ],
   "source": [
    "class_labels=y.unique()\n",
    "y = label_binarize(y, classes=class_labels)\n",
    "n_classes= y.shape[1]\n",
    "\n",
    "\n",
    "X_train, X_test, y_train, y_test = train_test_split(X, y, test_size=.5, random_state=0)\n",
    "\n",
    "print(\"(X,y) shape\",X.shape,y.shape)\n",
    "\n",
    "#classifier = OneVsRestClassifier(svm.SVC())\n",
    "classifier = OneVsRestClassifier(LogisticRegression())\n",
    "\n",
    "y_score = classifier.fit(X_train, y_train).decision_function(X_test)\n",
    "\n",
    "#%% Confusion Matrix and Classification Report\n",
    "from sklearn.metrics import confusion_matrix, classification_report \n",
    "import numpy as np\n",
    "# Classification Report\n",
    "y_pred = classifier.predict(X_test)\n",
    "\n",
    "results = {}\n",
    "\n",
    "results['confusion_matrix'] = confusion_matrix(np.argmax(y_test, axis=1), np.argmax(y_pred, axis=1)).tolist()\n",
    "print (\"\\n\\nConfusion Matrix:\\n\",confusion_matrix(np.argmax(y_test, axis=1), np.argmax(y_pred, axis=1)))\n",
    "\n",
    "results['classification_report'] = classification_report(np.argmax(y_test, axis=1), np.argmax(y_pred, axis=1),digits=4,target_names=class_labels,output_dict=True)\n",
    "model_report = classification_report(np.argmax(y_test, axis=1), np.argmax(y_pred, axis=1),digits=4,target_names=class_labels)\n",
    "print(model_report)\n",
    "\n",
    "print(results)"
   ]
  },
  {
   "cell_type": "code",
   "execution_count": 18,
   "id": "a35fd6d0",
   "metadata": {},
   "outputs": [
    {
     "name": "stdout",
     "output_type": "stream",
     "text": [
      "\n",
      "\n",
      "Confusion Matrix:\n",
      " [[2535    4    1]\n",
      " [ 149  243    0]\n",
      " [ 262    0   13]]\n",
      "              precision    recall  f1-score   support\n",
      "\n",
      "     PREMISE     0.8605    0.9980    0.9242      2540\n",
      "  CONCLUSION     0.9838    0.6199    0.7606       392\n",
      "          NA     0.9286    0.0473    0.0900       275\n",
      "\n",
      "    accuracy                         0.8703      3207\n",
      "   macro avg     0.9243    0.5551    0.5916      3207\n",
      "weighted avg     0.8814    0.8703    0.8326      3207\n",
      "\n",
      "{'confusion_matrix': [[2535, 4, 1], [149, 243, 0], [262, 0, 13]], 'classification_report': {'PREMISE': {'precision': 0.860488798370672, 'recall': 0.9980314960629921, 'f1-score': 0.9241706161137442, 'support': 2540}, 'CONCLUSION': {'precision': 0.9838056680161943, 'recall': 0.6198979591836735, 'f1-score': 0.76056338028169, 'support': 392}, 'NA': {'precision': 0.9285714285714286, 'recall': 0.04727272727272727, 'f1-score': 0.08996539792387544, 'support': 275}, 'accuracy': 0.870283754287496, 'macro avg': {'precision': 0.924288631652765, 'recall': 0.555067394173131, 'f1-score': 0.5915664647731033, 'support': 3207}, 'weighted avg': {'precision': 0.8814002221955093, 'recall': 0.870283754287496, 'f1-score': 0.8326394432268159, 'support': 3207}}}\n"
     ]
    }
   ],
   "source": []
  },
  {
   "cell_type": "code",
   "execution_count": 19,
   "id": "8f05cf9a",
   "metadata": {},
   "outputs": [
    {
     "data": {
      "image/png": "[encoded data removed]",
      "text/plain": [
       "<Figure size 432x288 with 1 Axes>"
      ]
     },
     "metadata": {
      "needs_background": "light"
     },
     "output_type": "display_data"
    }
   ],
   "source": [
    "fpr = dict()\n",
    "tpr = dict()\n",
    "roc_auc = dict()\n",
    "lw=2\n",
    "for i in range(n_classes):\n",
    "    fpr[i], tpr[i], _ = roc_curve(y_test[:, i], y_score[:, i])\n",
    "    roc_auc[i] = auc(fpr[i], tpr[i])\n",
    "colors = cycle(['blue', 'red', 'green'])\n",
    "for i, color in zip(range(n_classes), colors):\n",
    "    plt.plot(fpr[i], tpr[i], color=color, lw=2, label='ROC curve of class {0}(AUC={1:0.2f})'.format(class_labels[i], roc_auc[i]))\n",
    "plt.plot([0, 1], [0, 1], 'k--', lw=lw)\n",
    "plt.xlim([-0.05, 1.0])\n",
    "plt.ylim([0.0, 1.05])\n",
    "plt.xlabel('False Positive Rate')\n",
    "plt.ylabel('True Positive Rate')\n",
    "plt.title('ROC for Sentence Type')\n",
    "plt.legend(loc=\"lower right\")\n",
    "\n",
    "resolution_value = 1200\n",
    "plt.savefig(\"../temp/myImage.png\", format=\"png\", dpi=resolution_value)\n",
    "plt.show()"
   ]
  },
  {
   "cell_type": "code",
   "execution_count": 20,
   "id": "569a5d12",
   "metadata": {},
   "outputs": [
    {
     "data": {
      "text/plain": [
       "4891"
      ]
     },
     "execution_count": 20,
     "metadata": {},
     "output_type": "execute_result"
    }
   ],
   "source": [
    "feature_names.size"
   ]
  }
 ],
 "metadata": {
  "kernelspec": {
   "display_name": "Python 3 (ipykernel)",
   "language": "python",
   "name": "python3"
  },
  "language_info": {
   "codemirror_mode": {
    "name": "ipython",
    "version": 3
   },
   "file_extension": ".py",
   "mimetype": "text/x-python",
   "name": "python",
   "nbconvert_exporter": "python",
   "pygments_lexer": "ipython3",
   "version": "3.10.4"
  }
 },
 "nbformat": 4,
 "nbformat_minor": 5
}
