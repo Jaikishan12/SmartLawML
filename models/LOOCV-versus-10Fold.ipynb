{
 "cells": [
  {
   "cell_type": "code",
   "execution_count": 1,
   "id": "ac374470",
   "metadata": {},
   "outputs": [
    {
     "data": {
      "image/png": "[encoded data removed]",
      "text/plain": [
       "<Figure size 432x288 with 1 Axes>"
      ]
     },
     "metadata": {
      "needs_background": "light"
     },
     "output_type": "display_data"
    },
    {
     "name": "stdout",
     "output_type": "stream",
     "text": [
      "Correlation: 0.999\n"
     ]
    }
   ],
   "source": [
    "import json\n",
    "from matplotlib import pyplot\n",
    "from numpy import polyfit\n",
    "from numpy import asarray\n",
    "\n",
    "ideal_results, cv_results = list(), list()\n",
    "\n",
    "#filename=\"G:/PhD/Paper/3/CVResults20220618-090416-LR.json\"  \n",
    "#with open(filename,encoding=\"utf8\") as f1: \n",
    "#    lrJson=json.load(f1) #ALL DATA FROM FILE LOADED INTO DATA\n",
    "\n",
    "#cv_results.append(lrJson[\"sentenceTypeCVResult\"][0][\"mlModelResultList\"][0][\"meanLOOCV\"])\n",
    "#ideal_results.append(lrJson[\"sentenceTypeCVResult\"][0][\"mlModelResultList\"][0][\"mean10FoldCV\"])\n",
    "\n",
    "#filename=\"G:/PhD/Paper/3/CVResults20220618-104014-KNN.json\"  \n",
    "#with open(filename,encoding=\"utf8\") as f1: \n",
    "#    knnJson=json.load(f1) #ALL DATA FROM FILE LOADED INTO DATA\n",
    "\n",
    "#cv_results.append(knnJson[\"sentenceTypeCVResult\"][0][\"mlModelResultList\"][0][\"meanLOOCV\"])\n",
    "#ideal_results.append(knnJson[\"sentenceTypeCVResult\"][0][\"mlModelResultList\"][0][\"mean10FoldCV\"])\n",
    "\n",
    "cv_results.append(0.788)\n",
    "ideal_results.append(0.788)\n",
    "\n",
    "cv_results.append(0.782)\n",
    "ideal_results.append(0.779)\n",
    "\n",
    "cv_results.append(0.723)\n",
    "ideal_results.append(0.729)\n",
    "\n",
    "cv_results.append(0.694)\n",
    "ideal_results.append(0.702)\n",
    "\n",
    "cv_results.append(0.765)\n",
    "ideal_results.append(0.772)\n",
    "\n",
    "cv_results.append(0.691)\n",
    "ideal_results.append(0.696)\n",
    "\n",
    "cv_results.append(0.769)\n",
    "ideal_results.append(0.765)\n",
    "\n",
    "cv_results.append(0.788)\n",
    "ideal_results.append(0.786)\n",
    "\n",
    "cv_results.append(0.458)\n",
    "ideal_results.append(0.471)\n",
    "\n",
    "cv_results.append(0.767)\n",
    "ideal_results.append(0.772)\n",
    "\n",
    "cv_results.append(0.739)\n",
    "ideal_results.append(0.744)\n",
    "\n",
    "cv_results.append(0.773)\n",
    "ideal_results.append(0.769)\n",
    "\n",
    "cv_results.append(0.757)\n",
    "ideal_results.append(0.759)\n",
    "\n",
    "pyplot.scatter(cv_results, ideal_results)\n",
    "# plot the line of best fit\n",
    "coeff, bias = polyfit(cv_results, ideal_results, 1)\n",
    "line = coeff * asarray(cv_results) + bias\n",
    "pyplot.plot(cv_results, line, color='r')\n",
    "# label the plot\n",
    "pyplot.title('10-fold CV vs LOOCV Mean Accuracy')\n",
    "pyplot.xlabel('Mean Accuracy (10-fold CV)')\n",
    "pyplot.ylabel('Mean Accuracy (LOOCV)')\n",
    "\n",
    "pyplot.title('10-fold CV vs LOOCV Mean Accuracy')\n",
    "pyplot.xlabel('Mean Accuracy (10-fold CV)')\n",
    "pyplot.ylabel('Mean Accuracy (LOOCV)')\n",
    "\n",
    "pyplot.savefig(\"G:/PhD/Paper/3/LOOCV-versus-10Fold.jpeg\", format=\"jpeg\", dpi=1200)\n",
    "\n",
    "# show the plot\n",
    "pyplot.show()\n",
    "\n",
    "\n",
    "from scipy.stats import pearsonr\n",
    "corr, _ = pearsonr(cv_results, ideal_results)\n",
    "print('Correlation: %.3f' % corr)\n"
   ]
  }
 ],
 "metadata": {
  "kernelspec": {
   "display_name": "Python 3 (ipykernel)",
   "language": "python",
   "name": "python3"
  },
  "language_info": {
   "codemirror_mode": {
    "name": "ipython",
    "version": 3
   },
   "file_extension": ".py",
   "mimetype": "text/x-python",
   "name": "python",
   "nbconvert_exporter": "python",
   "pygments_lexer": "ipython3",
   "version": "3.10.4"
  }
 },
 "nbformat": 4,
 "nbformat_minor": 5
}
