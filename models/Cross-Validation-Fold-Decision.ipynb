{
 "cells": [
  {
   "cell_type": "markdown",
   "id": "a1e8a530",
   "metadata": {},
   "source": [
    "Reference:\n",
    "https://machinelearningmastery.com/how-to-configure-k-fold-cross-validation/\n",
    "\n",
    "https://scikit-learn.org/stable/modules/generated/sklearn.model_selection.StratifiedKFold.html#sklearn.model_selection.StratifiedKFold\n",
    "\n",
    "https://machinelearningmastery.com/cross-validation-for-imbalanced-classification/\n",
    "\n",
    "https://www.kaggle.com/code/muhammetvarl/mlp-multiclass-classification-roc-auc/notebook"
   ]
  },
  {
   "cell_type": "code",
   "execution_count": 2,
   "id": "201e0e79",
   "metadata": {},
   "outputs": [],
   "source": [
    "import pandas as pd\n",
    "from smartlawdata import getSentenceTypeDataSet\n",
    "from sklearn.feature_extraction.text import TfidfVectorizer\n",
    "from sklearn.model_selection import train_test_split\n",
    "from numpy import mean\n",
    "from sklearn.datasets import make_classification\n",
    "from sklearn.model_selection import LeaveOneOut\n",
    "from sklearn.model_selection import StratifiedKFold\n",
    "from sklearn.model_selection import cross_val_score\n",
    "from sklearn.linear_model import LogisticRegression\n",
    "from matplotlib import pyplot\n",
    "df_final1 = getSentenceTypeDataSet()\n",
    "#print(df_final1)\n",
    "\n",
    "los=[]\n",
    "for item in df_final1['text']:\n",
    "    los.append(item)\n",
    "\n",
    "#Create a TFIDF vectorizer to generate text entered into vector form to be given as input to Machine Learning model\n",
    "vectorizer = TfidfVectorizer()\n",
    "vectors = vectorizer.fit_transform(los)\n",
    "feature_names = vectorizer.get_feature_names_out() #Extract the feature names as columns for the texts\n",
    "dense = vectors.todense()\n",
    "denselist = dense.tolist()\n",
    "df_end = pd.DataFrame(denselist, columns=feature_names)\n",
    "df_end['argumentSentenceType']=df_final1['argumentSentenceType']\n",
    "\n",
    "yoriginal=df_end.argumentSentenceType\n",
    "Xoriginal=df_end[feature_names]\n"
   ]
  },
  {
   "cell_type": "code",
   "execution_count": 3,
   "id": "04178d49",
   "metadata": {},
   "outputs": [],
   "source": [
    "# retrieve the model to be evaluate\n",
    "def get_model():\n",
    "\tmodel = LogisticRegression()\n",
    "\treturn model"
   ]
  },
  {
   "cell_type": "code",
   "execution_count": 4,
   "id": "61837f36",
   "metadata": {},
   "outputs": [],
   "source": [
    "# evaluate the model using a given test condition\n",
    "def evaluate_model(cv):\n",
    "\t# get the dataset\n",
    "\tX, y = Xoriginal,yoriginal\n",
    "\t# get the model\n",
    "\tmodel = get_model()\n",
    "\t# evaluate the model\n",
    "\tscores = cross_val_score(model, X, y, scoring='accuracy', cv=cv, n_jobs=-1)\n",
    "\t# return scores\n",
    "\treturn mean(scores), scores.min(), scores.max()"
   ]
  },
  {
   "cell_type": "code",
   "execution_count": 5,
   "id": "f855f6c9",
   "metadata": {},
   "outputs": [
    {
     "name": "stdout",
     "output_type": "stream",
     "text": [
      "> folds=2, accuracy=0.944 (0.943,0.945)\n",
      "> folds=3, accuracy=0.942 (0.940,0.946)\n",
      "> folds=4, accuracy=0.944 (0.941,0.948)\n",
      "> folds=5, accuracy=0.943 (0.940,0.948)\n",
      "> folds=6, accuracy=0.944 (0.936,0.951)\n",
      "> folds=7, accuracy=0.944 (0.937,0.951)\n",
      "> folds=8, accuracy=0.945 (0.936,0.951)\n",
      "> folds=9, accuracy=0.944 (0.938,0.950)\n",
      "> folds=10, accuracy=0.944 (0.935,0.953)\n",
      "> folds=11, accuracy=0.945 (0.937,0.957)\n",
      "> folds=12, accuracy=0.945 (0.936,0.955)\n",
      "> folds=13, accuracy=0.944 (0.935,0.955)\n",
      "> folds=14, accuracy=0.945 (0.932,0.959)\n",
      "> folds=15, accuracy=0.944 (0.937,0.953)\n",
      "> folds=16, accuracy=0.945 (0.928,0.958)\n",
      "> folds=17, accuracy=0.944 (0.926,0.955)\n",
      "> folds=18, accuracy=0.944 (0.933,0.958)\n",
      "> folds=19, accuracy=0.945 (0.929,0.964)\n",
      "> folds=20, accuracy=0.945 (0.925,0.963)\n",
      "> folds=21, accuracy=0.945 (0.928,0.967)\n",
      "> folds=22, accuracy=0.945 (0.928,0.962)\n",
      "> folds=23, accuracy=0.945 (0.928,0.964)\n",
      "> folds=24, accuracy=0.945 (0.925,0.963)\n",
      "> folds=25, accuracy=0.945 (0.918,0.965)\n",
      "> folds=26, accuracy=0.945 (0.927,0.968)\n",
      "> folds=27, accuracy=0.946 (0.928,0.966)\n",
      "> folds=28, accuracy=0.946 (0.917,0.965)\n",
      "> folds=29, accuracy=0.945 (0.923,0.964)\n",
      "> folds=30, accuracy=0.945 (0.921,0.963)\n"
     ]
    }
   ],
   "source": [
    "# calculate the ideal test condition\n",
    "#ideal, _, _ = evaluate_model(LeaveOneOut())\n",
    "#print('Ideal: %.3f' % ideal)\n",
    "# define folds to test\n",
    "folds = range(2,31)\n",
    "# record mean and min/max of each set of results\n",
    "means, mins, maxs = list(),list(),list()\n",
    "# evaluate each k value\n",
    "for k in folds:\n",
    "\t# define the test condition\n",
    "\tcv = StratifiedKFold(n_splits=k, shuffle=True, random_state=1)\n",
    "\t# evaluate k value\n",
    "\tk_mean, k_min, k_max = evaluate_model(cv)\n",
    "\t# report performance\n",
    "\tprint('> folds=%d, accuracy=%.3f (%.3f,%.3f)' % (k, k_mean, k_min, k_max))\n",
    "\t# store mean accuracy\n",
    "\tmeans.append(k_mean)\n",
    "\t# store min and max relative to the mean\n",
    "\tmins.append(k_mean - k_min)\n",
    "\tmaxs.append(k_max - k_mean)"
   ]
  },
  {
   "cell_type": "code",
   "execution_count": 9,
   "id": "004a421a",
   "metadata": {},
   "outputs": [],
   "source": [
    "import json\n",
    "#Save results\n",
    "x = {\n",
    "  \"means\":means,\n",
    "  \"mins\":mins,\n",
    "  \"maxs\":maxs\n",
    "}\n",
    "\n",
    "json_object = json.dumps(x, indent = 4)\n",
    "import time\n",
    "timestr = time.strftime(\"%Y%m%d-%H%M%S\")  \n",
    "filename=\"../temp/CVFoldDecision\"+timestr+\".json\"  \n",
    "# Writing to sample.json\n",
    "with open(filename, \"w\") as outfile:\n",
    "    outfile.write(json_object)"
   ]
  },
  {
   "cell_type": "code",
   "execution_count": 29,
   "id": "ac374470",
   "metadata": {},
   "outputs": [
    {
     "data": {
      "image/png": "[encoded data removed]",
      "text/plain": [
       "<Figure size 432x288 with 1 Axes>"
      ]
     },
     "metadata": {
      "needs_background": "light"
     },
     "output_type": "display_data"
    }
   ],
   "source": [
    "ideal=0.944\n",
    "\n",
    "with open(filename,encoding=\"utf8\") as f1: \n",
    "    cvFoldDecisionData=json.load(f1) #ALL DATA FROM FILE LOADED INTO DATA\n",
    "\n",
    "means_from_file=cvFoldDecisionData[\"means\"]\n",
    "mins_from_file=cvFoldDecisionData[\"mins\"]\n",
    "maxs_from_file=cvFoldDecisionData[\"maxs\"]\n",
    "\n",
    "# line plot of k mean values with min/max error bars\n",
    "pyplot.errorbar(folds, means_from_file, yerr=[mins_from_file, maxs_from_file], fmt='o')\n",
    "# plot the ideal case in a separate color\n",
    "pyplot.plot(folds, [ideal for _ in range(len(folds))], color='r')\n",
    "\n",
    "\n",
    "pyplot.xlabel('No. of Folds')\n",
    "pyplot.ylabel('Accuracy')\n",
    "\n",
    "pyplot.savefig(\"../temp/\"+\"CVFoldDecision.jpeg\", format=\"jpeg\", dpi=1200)\n",
    "\n",
    "# show the plot\n",
    "pyplot.show()"
   ]
  }
 ],
 "metadata": {
  "kernelspec": {
   "display_name": "Python 3 (ipykernel)",
   "language": "python",
   "name": "python3"
  },
  "language_info": {
   "codemirror_mode": {
    "name": "ipython",
    "version": 3
   },
   "file_extension": ".py",
   "mimetype": "text/x-python",
   "name": "python",
   "nbconvert_exporter": "python",
   "pygments_lexer": "ipython3",
   "version": "3.10.4"
  }
 },
 "nbformat": 4,
 "nbformat_minor": 5
}
